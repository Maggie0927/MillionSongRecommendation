{
 "cells": [
  {
   "cell_type": "code",
   "execution_count": 1,
   "id": "c19c9a44",
   "metadata": {},
   "outputs": [],
   "source": [
    "import warnings\n",
    "warnings.filterwarnings('ignore')\n",
    "\n",
    "import pandas as pd\n",
    "import numpy as np\n",
    "import matplotlib.pyplot as plt\n",
    "from sklearn.model_selection import train_test_split\n",
    "from sklearn import preprocessing\n",
    "from sklearn.preprocessing import StandardScaler\n",
    "from scipy.spatial.distance import cdist"
   ]
  },
  {
   "cell_type": "code",
   "execution_count": 3,
   "id": "efc9f8f8",
   "metadata": {},
   "outputs": [
    {
     "data": {
      "text/html": [
       "<div>\n",
       "<style scoped>\n",
       "    .dataframe tbody tr th:only-of-type {\n",
       "        vertical-align: middle;\n",
       "    }\n",
       "\n",
       "    .dataframe tbody tr th {\n",
       "        vertical-align: top;\n",
       "    }\n",
       "\n",
       "    .dataframe thead th {\n",
       "        text-align: right;\n",
       "    }\n",
       "</style>\n",
       "<table border=\"1\" class=\"dataframe\">\n",
       "  <thead>\n",
       "    <tr style=\"text-align: right;\">\n",
       "      <th></th>\n",
       "      <th>user_id</th>\n",
       "      <th>song_id</th>\n",
       "      <th>listen_count</th>\n",
       "    </tr>\n",
       "  </thead>\n",
       "  <tbody>\n",
       "    <tr>\n",
       "      <th>0</th>\n",
       "      <td>fd50c4007b68a3737fe052d5a4f78ce8aa117f3d</td>\n",
       "      <td>SOBONKR12A58A7A7E0</td>\n",
       "      <td>1</td>\n",
       "    </tr>\n",
       "    <tr>\n",
       "      <th>1</th>\n",
       "      <td>fd50c4007b68a3737fe052d5a4f78ce8aa117f3d</td>\n",
       "      <td>SOEGIYH12A6D4FC0E3</td>\n",
       "      <td>1</td>\n",
       "    </tr>\n",
       "    <tr>\n",
       "      <th>2</th>\n",
       "      <td>fd50c4007b68a3737fe052d5a4f78ce8aa117f3d</td>\n",
       "      <td>SOFLJQZ12A6D4FADA6</td>\n",
       "      <td>1</td>\n",
       "    </tr>\n",
       "    <tr>\n",
       "      <th>3</th>\n",
       "      <td>fd50c4007b68a3737fe052d5a4f78ce8aa117f3d</td>\n",
       "      <td>SOHTKMO12AB01843B0</td>\n",
       "      <td>1</td>\n",
       "    </tr>\n",
       "    <tr>\n",
       "      <th>4</th>\n",
       "      <td>fd50c4007b68a3737fe052d5a4f78ce8aa117f3d</td>\n",
       "      <td>SODQZCY12A6D4F9D11</td>\n",
       "      <td>1</td>\n",
       "    </tr>\n",
       "  </tbody>\n",
       "</table>\n",
       "</div>"
      ],
      "text/plain": [
       "                                    user_id             song_id  listen_count\n",
       "0  fd50c4007b68a3737fe052d5a4f78ce8aa117f3d  SOBONKR12A58A7A7E0             1\n",
       "1  fd50c4007b68a3737fe052d5a4f78ce8aa117f3d  SOEGIYH12A6D4FC0E3             1\n",
       "2  fd50c4007b68a3737fe052d5a4f78ce8aa117f3d  SOFLJQZ12A6D4FADA6             1\n",
       "3  fd50c4007b68a3737fe052d5a4f78ce8aa117f3d  SOHTKMO12AB01843B0             1\n",
       "4  fd50c4007b68a3737fe052d5a4f78ce8aa117f3d  SODQZCY12A6D4F9D11             1"
      ]
     },
     "execution_count": 3,
     "metadata": {},
     "output_type": "execute_result"
    }
   ],
   "source": [
    "song_df_1 = pd.read_csv('./data/kaggle_visible_evaluation_triplets.txt', sep='\\t', header=None)\n",
    "song_df_1.columns = ['user_id', 'song_id', 'listen_count']\n",
    "song_df_1.head()"
   ]
  },
  {
   "cell_type": "code",
   "execution_count": 6,
   "id": "d1d07f98",
   "metadata": {},
   "outputs": [
    {
     "data": {
      "text/html": [
       "<div>\n",
       "<style scoped>\n",
       "    .dataframe tbody tr th:only-of-type {\n",
       "        vertical-align: middle;\n",
       "    }\n",
       "\n",
       "    .dataframe tbody tr th {\n",
       "        vertical-align: top;\n",
       "    }\n",
       "\n",
       "    .dataframe thead th {\n",
       "        text-align: right;\n",
       "    }\n",
       "</style>\n",
       "<table border=\"1\" class=\"dataframe\">\n",
       "  <thead>\n",
       "    <tr style=\"text-align: right;\">\n",
       "      <th></th>\n",
       "      <th>track_id</th>\n",
       "      <th>song_id</th>\n",
       "      <th>artist_name</th>\n",
       "      <th>title</th>\n",
       "    </tr>\n",
       "  </thead>\n",
       "  <tbody>\n",
       "    <tr>\n",
       "      <th>0</th>\n",
       "      <td>TRMMMYQ128F932D901</td>\n",
       "      <td>SOQMMHC12AB0180CB8</td>\n",
       "      <td>Faster Pussy cat</td>\n",
       "      <td>Silent Night</td>\n",
       "    </tr>\n",
       "    <tr>\n",
       "      <th>1</th>\n",
       "      <td>TRMMMKD128F425225D</td>\n",
       "      <td>SOVFVAK12A8C1350D9</td>\n",
       "      <td>Karkkiautomaatti</td>\n",
       "      <td>Tanssi vaan</td>\n",
       "    </tr>\n",
       "    <tr>\n",
       "      <th>2</th>\n",
       "      <td>TRMMMRX128F93187D9</td>\n",
       "      <td>SOGTUKN12AB017F4F1</td>\n",
       "      <td>Hudson Mohawke</td>\n",
       "      <td>No One Could Ever</td>\n",
       "    </tr>\n",
       "    <tr>\n",
       "      <th>3</th>\n",
       "      <td>TRMMMCH128F425532C</td>\n",
       "      <td>SOBNYVR12A8C13558C</td>\n",
       "      <td>Yerba Brava</td>\n",
       "      <td>Si Vos Querés</td>\n",
       "    </tr>\n",
       "    <tr>\n",
       "      <th>4</th>\n",
       "      <td>TRMMMWA128F426B589</td>\n",
       "      <td>SOHSBXH12A8C13B0DF</td>\n",
       "      <td>Der Mystic</td>\n",
       "      <td>Tangle Of Aspens</td>\n",
       "    </tr>\n",
       "  </tbody>\n",
       "</table>\n",
       "</div>"
      ],
      "text/plain": [
       "             track_id             song_id       artist_name              title\n",
       "0  TRMMMYQ128F932D901  SOQMMHC12AB0180CB8  Faster Pussy cat       Silent Night\n",
       "1  TRMMMKD128F425225D  SOVFVAK12A8C1350D9  Karkkiautomaatti        Tanssi vaan\n",
       "2  TRMMMRX128F93187D9  SOGTUKN12AB017F4F1    Hudson Mohawke  No One Could Ever\n",
       "3  TRMMMCH128F425532C  SOBNYVR12A8C13558C       Yerba Brava      Si Vos Querés\n",
       "4  TRMMMWA128F426B589  SOHSBXH12A8C13B0DF        Der Mystic   Tangle Of Aspens"
      ]
     },
     "execution_count": 6,
     "metadata": {},
     "output_type": "execute_result"
    }
   ],
   "source": [
    "song_df_2 = pd.read_table('./data/unique_tracks.txt', sep='<SEP>', header=None)\n",
    "song_df_2.columns = ['track_id', 'song_id', 'artist_name', 'title']\n",
    "song_df_2.head()"
   ]
  },
  {
   "cell_type": "code",
   "execution_count": 7,
   "id": "5f81350b",
   "metadata": {},
   "outputs": [
    {
     "data": {
      "text/html": [
       "<div>\n",
       "<style scoped>\n",
       "    .dataframe tbody tr th:only-of-type {\n",
       "        vertical-align: middle;\n",
       "    }\n",
       "\n",
       "    .dataframe tbody tr th {\n",
       "        vertical-align: top;\n",
       "    }\n",
       "\n",
       "    .dataframe thead th {\n",
       "        text-align: right;\n",
       "    }\n",
       "</style>\n",
       "<table border=\"1\" class=\"dataframe\">\n",
       "  <thead>\n",
       "    <tr style=\"text-align: right;\">\n",
       "      <th></th>\n",
       "      <th>track_id</th>\n",
       "      <th>genre</th>\n",
       "    </tr>\n",
       "  </thead>\n",
       "  <tbody>\n",
       "    <tr>\n",
       "      <th>0</th>\n",
       "      <td>TRAAAAK128F9318786</td>\n",
       "      <td>Rock</td>\n",
       "    </tr>\n",
       "    <tr>\n",
       "      <th>1</th>\n",
       "      <td>TRAAAAW128F429D538</td>\n",
       "      <td>Rap</td>\n",
       "    </tr>\n",
       "    <tr>\n",
       "      <th>2</th>\n",
       "      <td>TRAAADJ128F4287B47</td>\n",
       "      <td>Rock</td>\n",
       "    </tr>\n",
       "    <tr>\n",
       "      <th>3</th>\n",
       "      <td>TRAAADZ128F9348C2E</td>\n",
       "      <td>Latin</td>\n",
       "    </tr>\n",
       "    <tr>\n",
       "      <th>4</th>\n",
       "      <td>TRAAAED128E0783FAB</td>\n",
       "      <td>Jazz</td>\n",
       "    </tr>\n",
       "  </tbody>\n",
       "</table>\n",
       "</div>"
      ],
      "text/plain": [
       "             track_id  genre\n",
       "0  TRAAAAK128F9318786   Rock\n",
       "1  TRAAAAW128F429D538    Rap\n",
       "2  TRAAADJ128F4287B47   Rock\n",
       "3  TRAAADZ128F9348C2E  Latin\n",
       "4  TRAAAED128E0783FAB   Jazz"
      ]
     },
     "execution_count": 7,
     "metadata": {},
     "output_type": "execute_result"
    }
   ],
   "source": [
    "genre = pd.read_table('./data/song_genre.cls', delimiter='\\t', comment='#', header=None)\n",
    "genre.columns = ['track_id','genre']\n",
    "genre.head()"
   ]
  },
  {
   "cell_type": "code",
   "execution_count": 13,
   "id": "16b9623b",
   "metadata": {},
   "outputs": [
    {
     "data": {
      "text/plain": [
       "Text(0.5, 1.0, 'Genre Frequency Distribution')"
      ]
     },
     "execution_count": 13,
     "metadata": {},
     "output_type": "execute_result"
    },
    {
     "data": {
      "image/png": "[encoded data removed]",
      "text/plain": [
       "<Figure size 432x288 with 1 Axes>"
      ]
     },
     "metadata": {
      "needs_background": "light"
     },
     "output_type": "display_data"
    }
   ],
   "source": [
    "genre['genre'].value_counts().plot.bar()\n",
    "plt.xlabel('Genre')\n",
    "plt.ylabel('Number of Songs')\n",
    "plt.title('Genre Frequency Distribution')"
   ]
  },
  {
   "cell_type": "code",
   "execution_count": 8,
   "id": "7e4a1be5",
   "metadata": {},
   "outputs": [
    {
     "data": {
      "text/html": [
       "<div>\n",
       "<style scoped>\n",
       "    .dataframe tbody tr th:only-of-type {\n",
       "        vertical-align: middle;\n",
       "    }\n",
       "\n",
       "    .dataframe tbody tr th {\n",
       "        vertical-align: top;\n",
       "    }\n",
       "\n",
       "    .dataframe thead th {\n",
       "        text-align: right;\n",
       "    }\n",
       "</style>\n",
       "<table border=\"1\" class=\"dataframe\">\n",
       "  <thead>\n",
       "    <tr style=\"text-align: right;\">\n",
       "      <th></th>\n",
       "      <th>artist_id</th>\n",
       "      <th>longitude</th>\n",
       "      <th>latitude</th>\n",
       "      <th>artist_name</th>\n",
       "      <th>location</th>\n",
       "    </tr>\n",
       "  </thead>\n",
       "  <tbody>\n",
       "    <tr>\n",
       "      <th>0</th>\n",
       "      <td>ARZGXZG1187B9B56B6</td>\n",
       "      <td>-16.96595</td>\n",
       "      <td>-61.14804</td>\n",
       "      <td>Endless Blue</td>\n",
       "      <td>Santa Cruz</td>\n",
       "    </tr>\n",
       "    <tr>\n",
       "      <th>1</th>\n",
       "      <td>AR8K6F31187B99C2BC</td>\n",
       "      <td>46.44231</td>\n",
       "      <td>-93.36586</td>\n",
       "      <td>Go Fish</td>\n",
       "      <td>Twin Cities, MN</td>\n",
       "    </tr>\n",
       "    <tr>\n",
       "      <th>2</th>\n",
       "      <td>ARHJJ771187FB5B581</td>\n",
       "      <td>51.59678</td>\n",
       "      <td>-0.33556</td>\n",
       "      <td>Screaming Lord Sutch</td>\n",
       "      <td>Harrow, Middlesex, England</td>\n",
       "    </tr>\n",
       "    <tr>\n",
       "      <th>3</th>\n",
       "      <td>ARJ8YLL1187FB3CA93</td>\n",
       "      <td>40.69626</td>\n",
       "      <td>-73.83301</td>\n",
       "      <td>Morton Gould</td>\n",
       "      <td>Richmond Hill, NY</td>\n",
       "    </tr>\n",
       "    <tr>\n",
       "      <th>4</th>\n",
       "      <td>ARYBAGV11ECC836DAC</td>\n",
       "      <td>43.58828</td>\n",
       "      <td>-79.64372</td>\n",
       "      <td>Crash Parallel</td>\n",
       "      <td>Mississauga</td>\n",
       "    </tr>\n",
       "  </tbody>\n",
       "</table>\n",
       "</div>"
      ],
      "text/plain": [
       "            artist_id  longitude  latitude           artist_name  \\\n",
       "0  ARZGXZG1187B9B56B6  -16.96595 -61.14804          Endless Blue   \n",
       "1  AR8K6F31187B99C2BC   46.44231 -93.36586               Go Fish   \n",
       "2  ARHJJ771187FB5B581   51.59678  -0.33556  Screaming Lord Sutch   \n",
       "3  ARJ8YLL1187FB3CA93   40.69626 -73.83301          Morton Gould   \n",
       "4  ARYBAGV11ECC836DAC   43.58828 -79.64372        Crash Parallel   \n",
       "\n",
       "                     location  \n",
       "0                  Santa Cruz  \n",
       "1             Twin Cities, MN  \n",
       "2  Harrow, Middlesex, England  \n",
       "3           Richmond Hill, NY  \n",
       "4                 Mississauga  "
      ]
     },
     "execution_count": 8,
     "metadata": {},
     "output_type": "execute_result"
    }
   ],
   "source": [
    "location = pd.read_table(\"./data/artist_location.txt\", sep='<SEP>', header=None)\n",
    "location.columns = ['artist_id','longitude','latitude', 'artist_name','location']\n",
    "location.head()"
   ]
  },
  {
   "cell_type": "code",
   "execution_count": 9,
   "id": "9938be24",
   "metadata": {},
   "outputs": [
    {
     "data": {
      "text/html": [
       "<div>\n",
       "<style scoped>\n",
       "    .dataframe tbody tr th:only-of-type {\n",
       "        vertical-align: middle;\n",
       "    }\n",
       "\n",
       "    .dataframe tbody tr th {\n",
       "        vertical-align: top;\n",
       "    }\n",
       "\n",
       "    .dataframe thead th {\n",
       "        text-align: right;\n",
       "    }\n",
       "</style>\n",
       "<table border=\"1\" class=\"dataframe\">\n",
       "  <thead>\n",
       "    <tr style=\"text-align: right;\">\n",
       "      <th></th>\n",
       "      <th>year</th>\n",
       "      <th>track_id</th>\n",
       "      <th>track_name</th>\n",
       "      <th>song_name</th>\n",
       "    </tr>\n",
       "  </thead>\n",
       "  <tbody>\n",
       "    <tr>\n",
       "      <th>0</th>\n",
       "      <td>1922</td>\n",
       "      <td>TRSGHLU128F421DF83</td>\n",
       "      <td>Alberta Hunter</td>\n",
       "      <td>Don't Pan Me</td>\n",
       "    </tr>\n",
       "    <tr>\n",
       "      <th>1</th>\n",
       "      <td>1922</td>\n",
       "      <td>TRMYDFV128F42511FC</td>\n",
       "      <td>Barrington Levy</td>\n",
       "      <td>Warm And Sunny Day</td>\n",
       "    </tr>\n",
       "    <tr>\n",
       "      <th>2</th>\n",
       "      <td>1922</td>\n",
       "      <td>TRRAHXQ128F42511FF</td>\n",
       "      <td>Barrington Levy</td>\n",
       "      <td>Looking My Love</td>\n",
       "    </tr>\n",
       "    <tr>\n",
       "      <th>3</th>\n",
       "      <td>1922</td>\n",
       "      <td>TRFAFTK12903CC77B8</td>\n",
       "      <td>Barrington Levy</td>\n",
       "      <td>Warm And Sunny Day</td>\n",
       "    </tr>\n",
       "    <tr>\n",
       "      <th>4</th>\n",
       "      <td>1922</td>\n",
       "      <td>TRSTBUY128F4251203</td>\n",
       "      <td>Barrington Levy</td>\n",
       "      <td>Mandela You're Free</td>\n",
       "    </tr>\n",
       "  </tbody>\n",
       "</table>\n",
       "</div>"
      ],
      "text/plain": [
       "   year            track_id       track_name            song_name\n",
       "0  1922  TRSGHLU128F421DF83   Alberta Hunter         Don't Pan Me\n",
       "1  1922  TRMYDFV128F42511FC  Barrington Levy   Warm And Sunny Day\n",
       "2  1922  TRRAHXQ128F42511FF  Barrington Levy      Looking My Love\n",
       "3  1922  TRFAFTK12903CC77B8  Barrington Levy   Warm And Sunny Day\n",
       "4  1922  TRSTBUY128F4251203  Barrington Levy  Mandela You're Free"
      ]
     },
     "execution_count": 9,
     "metadata": {},
     "output_type": "execute_result"
    }
   ],
   "source": [
    "year = pd.read_table(\"./data/tracks_per_year.txt\", sep='<SEP>', header=None)\n",
    "year.columns = ['year','track_id','track_name','song_name']\n",
    "year.head()"
   ]
  },
  {
   "cell_type": "code",
   "execution_count": 17,
   "id": "1489e5c2",
   "metadata": {},
   "outputs": [
    {
     "data": {
      "text/plain": [
       "Text(0.5, 1.0, 'Year Frequency Distribution')"
      ]
     },
     "execution_count": 17,
     "metadata": {},
     "output_type": "execute_result"
    },
    {
     "data": {
      "image/png": "[encoded data removed]",
      "text/plain": [
       "<Figure size 432x288 with 1 Axes>"
      ]
     },
     "metadata": {
      "needs_background": "light"
     },
     "output_type": "display_data"
    }
   ],
   "source": [
    "freq = year['year'].value_counts()\n",
    "unique_year = year['year'].unique()\n",
    "plt.plot(unique_year, freq)\n",
    "plt.xlabel('Year')\n",
    "plt.ylabel('Number of Songs')\n",
    "plt.title('Year Frequency Distribution')"
   ]
  },
  {
   "cell_type": "code",
   "execution_count": 19,
   "id": "7543107e",
   "metadata": {},
   "outputs": [
    {
     "data": {
      "text/plain": [
       "(1922, 2011)"
      ]
     },
     "execution_count": 19,
     "metadata": {},
     "output_type": "execute_result"
    }
   ],
   "source": [
    "unique_year.min(), unique_year.max()"
   ]
  },
  {
   "cell_type": "code",
   "execution_count": 28,
   "id": "5a2717cd",
   "metadata": {},
   "outputs": [
    {
     "data": {
      "text/html": [
       "<div>\n",
       "<style scoped>\n",
       "    .dataframe tbody tr th:only-of-type {\n",
       "        vertical-align: middle;\n",
       "    }\n",
       "\n",
       "    .dataframe tbody tr th {\n",
       "        vertical-align: top;\n",
       "    }\n",
       "\n",
       "    .dataframe thead th {\n",
       "        text-align: right;\n",
       "    }\n",
       "</style>\n",
       "<table border=\"1\" class=\"dataframe\">\n",
       "  <thead>\n",
       "    <tr style=\"text-align: right;\">\n",
       "      <th></th>\n",
       "      <th>user_id</th>\n",
       "      <th>song_id</th>\n",
       "      <th>listen_count</th>\n",
       "      <th>track_id</th>\n",
       "      <th>artist_name</th>\n",
       "      <th>title</th>\n",
       "      <th>genre</th>\n",
       "      <th>artist_id</th>\n",
       "      <th>longitude</th>\n",
       "      <th>latitude</th>\n",
       "      <th>location</th>\n",
       "      <th>year</th>\n",
       "    </tr>\n",
       "  </thead>\n",
       "  <tbody>\n",
       "    <tr>\n",
       "      <th>0</th>\n",
       "      <td>fd50c4007b68a3737fe052d5a4f78ce8aa117f3d</td>\n",
       "      <td>SOBONKR12A58A7A7E0</td>\n",
       "      <td>1</td>\n",
       "      <td>TRAEHHJ12903CF492F</td>\n",
       "      <td>Dwight Yoakam</td>\n",
       "      <td>You're The One</td>\n",
       "      <td>Country</td>\n",
       "      <td>AR5E44Z1187B9A1D74</td>\n",
       "      <td>37.4817</td>\n",
       "      <td>-82.51887</td>\n",
       "      <td>Pikeville, KY</td>\n",
       "      <td>1990.0</td>\n",
       "    </tr>\n",
       "    <tr>\n",
       "      <th>63</th>\n",
       "      <td>458833ce4418010e61304b34b2c992e1cce63435</td>\n",
       "      <td>SOVOGGO12A8C1433B2</td>\n",
       "      <td>1</td>\n",
       "      <td>TRDLCFS128F93306EF</td>\n",
       "      <td>Datarock</td>\n",
       "      <td>Give It Up</td>\n",
       "      <td>Electronic</td>\n",
       "      <td>ARBEOVA1187FB41C35</td>\n",
       "      <td>60.3907</td>\n",
       "      <td>5.33275</td>\n",
       "      <td>Bergen,  Norway</td>\n",
       "      <td>2009.0</td>\n",
       "    </tr>\n",
       "    <tr>\n",
       "      <th>68</th>\n",
       "      <td>458833ce4418010e61304b34b2c992e1cce63435</td>\n",
       "      <td>SOXXSYL12A8C14292A</td>\n",
       "      <td>1</td>\n",
       "      <td>TRRAMYW12903CC9AFF</td>\n",
       "      <td>Datarock</td>\n",
       "      <td>Amarillion</td>\n",
       "      <td>Electronic</td>\n",
       "      <td>ARBEOVA1187FB41C35</td>\n",
       "      <td>60.3907</td>\n",
       "      <td>5.33275</td>\n",
       "      <td>Bergen,  Norway</td>\n",
       "      <td>2009.0</td>\n",
       "    </tr>\n",
       "    <tr>\n",
       "      <th>69</th>\n",
       "      <td>458833ce4418010e61304b34b2c992e1cce63435</td>\n",
       "      <td>SOBXACU12AB01870CE</td>\n",
       "      <td>1</td>\n",
       "      <td>TRSBZBU12903CF7CB2</td>\n",
       "      <td>Datarock</td>\n",
       "      <td>Computer Camp Love</td>\n",
       "      <td>Electronic</td>\n",
       "      <td>ARBEOVA1187FB41C35</td>\n",
       "      <td>60.3907</td>\n",
       "      <td>5.33275</td>\n",
       "      <td>Bergen,  Norway</td>\n",
       "      <td>2003.0</td>\n",
       "    </tr>\n",
       "    <tr>\n",
       "      <th>77</th>\n",
       "      <td>c34670d9c1718361feb93068a853cead3c95b76a</td>\n",
       "      <td>SOBONKR12A58A7A7E0</td>\n",
       "      <td>1</td>\n",
       "      <td>TRAEHHJ12903CF492F</td>\n",
       "      <td>Dwight Yoakam</td>\n",
       "      <td>You're The One</td>\n",
       "      <td>Country</td>\n",
       "      <td>AR5E44Z1187B9A1D74</td>\n",
       "      <td>37.4817</td>\n",
       "      <td>-82.51887</td>\n",
       "      <td>Pikeville, KY</td>\n",
       "      <td>1990.0</td>\n",
       "    </tr>\n",
       "  </tbody>\n",
       "</table>\n",
       "</div>"
      ],
      "text/plain": [
       "                                     user_id             song_id  \\\n",
       "0   fd50c4007b68a3737fe052d5a4f78ce8aa117f3d  SOBONKR12A58A7A7E0   \n",
       "63  458833ce4418010e61304b34b2c992e1cce63435  SOVOGGO12A8C1433B2   \n",
       "68  458833ce4418010e61304b34b2c992e1cce63435  SOXXSYL12A8C14292A   \n",
       "69  458833ce4418010e61304b34b2c992e1cce63435  SOBXACU12AB01870CE   \n",
       "77  c34670d9c1718361feb93068a853cead3c95b76a  SOBONKR12A58A7A7E0   \n",
       "\n",
       "    listen_count            track_id    artist_name               title  \\\n",
       "0              1  TRAEHHJ12903CF492F  Dwight Yoakam      You're The One   \n",
       "63             1  TRDLCFS128F93306EF       Datarock          Give It Up   \n",
       "68             1  TRRAMYW12903CC9AFF       Datarock          Amarillion   \n",
       "69             1  TRSBZBU12903CF7CB2       Datarock  Computer Camp Love   \n",
       "77             1  TRAEHHJ12903CF492F  Dwight Yoakam      You're The One   \n",
       "\n",
       "         genre           artist_id  longitude  latitude         location  \\\n",
       "0      Country  AR5E44Z1187B9A1D74    37.4817 -82.51887    Pikeville, KY   \n",
       "63  Electronic  ARBEOVA1187FB41C35    60.3907   5.33275  Bergen,  Norway   \n",
       "68  Electronic  ARBEOVA1187FB41C35    60.3907   5.33275  Bergen,  Norway   \n",
       "69  Electronic  ARBEOVA1187FB41C35    60.3907   5.33275  Bergen,  Norway   \n",
       "77     Country  AR5E44Z1187B9A1D74    37.4817 -82.51887    Pikeville, KY   \n",
       "\n",
       "      year  \n",
       "0   1990.0  \n",
       "63  2009.0  \n",
       "68  2009.0  \n",
       "69  2003.0  \n",
       "77  1990.0  "
      ]
     },
     "execution_count": 28,
     "metadata": {},
     "output_type": "execute_result"
    }
   ],
   "source": [
    "song_df = pd.merge(song_df_1, song_df_2.drop_duplicates(['song_id']), on=\"song_id\", how=\"left\")\n",
    "song_df = pd.merge(song_df, genre, on='track_id', how='left')\n",
    "song_df = pd.merge(song_df, location, on='artist_name', how='left')\n",
    "song_df = pd.merge(song_df, year, on='track_id', how='left')\n",
    "song_df = song_df.dropna().drop(columns=['song_name','track_name'])\n",
    "song_df.head()"
   ]
  },
  {
   "cell_type": "code",
   "execution_count": 23,
   "id": "b55e8746",
   "metadata": {},
   "outputs": [
    {
     "name": "stdout",
     "output_type": "stream",
     "text": [
      "<class 'pandas.core.frame.DataFrame'>\n",
      "Int64Index: 191044 entries, 0 to 1459633\n",
      "Data columns (total 14 columns):\n",
      " #   Column        Non-Null Count   Dtype  \n",
      "---  ------        --------------   -----  \n",
      " 0   user_id       191044 non-null  object \n",
      " 1   song_id       191044 non-null  object \n",
      " 2   listen_count  191044 non-null  int64  \n",
      " 3   track_id      191044 non-null  object \n",
      " 4   artist_name   191044 non-null  object \n",
      " 5   title         191044 non-null  object \n",
      " 6   genre         191044 non-null  object \n",
      " 7   artist_id     191044 non-null  object \n",
      " 8   longitude     191044 non-null  float64\n",
      " 9   latitude      191044 non-null  float64\n",
      " 10  location      191044 non-null  object \n",
      " 11  year          191044 non-null  float64\n",
      " 12  track_name    191044 non-null  object \n",
      " 13  song_name     191044 non-null  object \n",
      "dtypes: float64(3), int64(1), object(10)\n",
      "memory usage: 21.9+ MB\n"
     ]
    }
   ],
   "source": [
    "song_df.info()"
   ]
  },
  {
   "cell_type": "markdown",
   "id": "13ae93ce",
   "metadata": {},
   "source": [
    "### EDA - User"
   ]
  },
  {
   "cell_type": "code",
   "execution_count": 20,
   "id": "95020d44",
   "metadata": {},
   "outputs": [
    {
     "data": {
      "text/html": [
       "<div>\n",
       "<style scoped>\n",
       "    .dataframe tbody tr th:only-of-type {\n",
       "        vertical-align: middle;\n",
       "    }\n",
       "\n",
       "    .dataframe tbody tr th {\n",
       "        vertical-align: top;\n",
       "    }\n",
       "\n",
       "    .dataframe thead th {\n",
       "        text-align: right;\n",
       "    }\n",
       "</style>\n",
       "<table border=\"1\" class=\"dataframe\">\n",
       "  <thead>\n",
       "    <tr style=\"text-align: right;\">\n",
       "      <th></th>\n",
       "      <th>user_id</th>\n",
       "      <th>listen_count</th>\n",
       "    </tr>\n",
       "  </thead>\n",
       "  <tbody>\n",
       "    <tr>\n",
       "      <th>2774</th>\n",
       "      <td>090b841eaf56d343a26625c2c6d08b823927bc4f</td>\n",
       "      <td>898</td>\n",
       "    </tr>\n",
       "    <tr>\n",
       "      <th>44766</th>\n",
       "      <td>957440a77858369fb7a6bcc6fa408fc187d5bd7b</td>\n",
       "      <td>574</td>\n",
       "    </tr>\n",
       "    <tr>\n",
       "      <th>34499</th>\n",
       "      <td>72e4442fb50d32acbe48252313f784c9182a0165</td>\n",
       "      <td>501</td>\n",
       "    </tr>\n",
       "    <tr>\n",
       "      <th>28523</th>\n",
       "      <td>5efa70adac9daff2303245322be33bc14c7361ed</td>\n",
       "      <td>452</td>\n",
       "    </tr>\n",
       "    <tr>\n",
       "      <th>9048</th>\n",
       "      <td>1dd2e5080f4c170c924ce1e91d3d41c1d80edc2f</td>\n",
       "      <td>440</td>\n",
       "    </tr>\n",
       "    <tr>\n",
       "      <th>...</th>\n",
       "      <td>...</td>\n",
       "      <td>...</td>\n",
       "    </tr>\n",
       "    <tr>\n",
       "      <th>41890</th>\n",
       "      <td>8bc07c0beda900cfac1951a26c4d99eca7001cf0</td>\n",
       "      <td>1</td>\n",
       "    </tr>\n",
       "    <tr>\n",
       "      <th>41885</th>\n",
       "      <td>8bbbb6369425f9aec27a12bfe01771524c2679ef</td>\n",
       "      <td>1</td>\n",
       "    </tr>\n",
       "    <tr>\n",
       "      <th>41880</th>\n",
       "      <td>8bb757727fc0f7977211b9cce157957c29415338</td>\n",
       "      <td>1</td>\n",
       "    </tr>\n",
       "    <tr>\n",
       "      <th>41873</th>\n",
       "      <td>8bb0e920078ca48191623565dd672ec820b11760</td>\n",
       "      <td>1</td>\n",
       "    </tr>\n",
       "    <tr>\n",
       "      <th>76839</th>\n",
       "      <td>ffff07d7d9bb187aa58c7b81b3d3f35e7cf7c0ee</td>\n",
       "      <td>1</td>\n",
       "    </tr>\n",
       "  </tbody>\n",
       "</table>\n",
       "<p>76840 rows × 2 columns</p>\n",
       "</div>"
      ],
      "text/plain": [
       "                                        user_id  listen_count\n",
       "2774   090b841eaf56d343a26625c2c6d08b823927bc4f           898\n",
       "44766  957440a77858369fb7a6bcc6fa408fc187d5bd7b           574\n",
       "34499  72e4442fb50d32acbe48252313f784c9182a0165           501\n",
       "28523  5efa70adac9daff2303245322be33bc14c7361ed           452\n",
       "9048   1dd2e5080f4c170c924ce1e91d3d41c1d80edc2f           440\n",
       "...                                         ...           ...\n",
       "41890  8bc07c0beda900cfac1951a26c4d99eca7001cf0             1\n",
       "41885  8bbbb6369425f9aec27a12bfe01771524c2679ef             1\n",
       "41880  8bb757727fc0f7977211b9cce157957c29415338             1\n",
       "41873  8bb0e920078ca48191623565dd672ec820b11760             1\n",
       "76839  ffff07d7d9bb187aa58c7b81b3d3f35e7cf7c0ee             1\n",
       "\n",
       "[76840 rows x 2 columns]"
      ]
     },
     "execution_count": 20,
     "metadata": {},
     "output_type": "execute_result"
    }
   ],
   "source": [
    "user_freq = song_df.groupby('user_id')['listen_count'].sum().reset_index().sort_values(by='listen_count', ascending=False)\n",
    "user_freq"
   ]
  },
  {
   "cell_type": "code",
   "execution_count": 27,
   "id": "6c48b976",
   "metadata": {},
   "outputs": [
    {
     "data": {
      "text/plain": [
       "Text(0, 0.5, 'Number of Users')"
      ]
     },
     "execution_count": 27,
     "metadata": {},
     "output_type": "execute_result"
    },
    {
     "data": {
      "image/png": "[encoded data removed]",
      "text/plain": [
       "<Figure size 432x288 with 1 Axes>"
      ]
     },
     "metadata": {
      "needs_background": "light"
     },
     "output_type": "display_data"
    }
   ],
   "source": [
    "user_freq = song_df.groupby('user_id')['listen_count'].sum().reset_index()\n",
    "user_freq['listen_count'].hist(bins=100)\n",
    "plt.grid(False)\n",
    "plt.xlim(0, 400)\n",
    "plt.title('Listen Count Histogram')\n",
    "plt.xlabel('Listen Count')\n",
    "plt.ylabel('Number of Users')"
   ]
  },
  {
   "cell_type": "code",
   "execution_count": 10,
   "id": "0987ddc0",
   "metadata": {},
   "outputs": [
    {
     "data": {
      "text/plain": [
       "user_id         04a4e9ae79fee7889a9d698c489590d78302e61b\n",
       "listen_count                                          36\n",
       "Name: 2006, dtype: object"
      ]
     },
     "execution_count": 10,
     "metadata": {},
     "output_type": "execute_result"
    }
   ],
   "source": [
    "user_freq.loc[2006]"
   ]
  },
  {
   "cell_type": "code",
   "execution_count": 16,
   "id": "1fddb25e",
   "metadata": {},
   "outputs": [
    {
     "data": {
      "text/html": [
       "<div>\n",
       "<style scoped>\n",
       "    .dataframe tbody tr th:only-of-type {\n",
       "        vertical-align: middle;\n",
       "    }\n",
       "\n",
       "    .dataframe tbody tr th {\n",
       "        vertical-align: top;\n",
       "    }\n",
       "\n",
       "    .dataframe thead th {\n",
       "        text-align: right;\n",
       "    }\n",
       "</style>\n",
       "<table border=\"1\" class=\"dataframe\">\n",
       "  <thead>\n",
       "    <tr style=\"text-align: right;\">\n",
       "      <th></th>\n",
       "      <th>title</th>\n",
       "      <th>genre</th>\n",
       "      <th>artist_name</th>\n",
       "      <th>listen_count</th>\n",
       "    </tr>\n",
       "  </thead>\n",
       "  <tbody>\n",
       "    <tr>\n",
       "      <th>1357110</th>\n",
       "      <td>Just A Man</td>\n",
       "      <td>Rock</td>\n",
       "      <td>Faith No More</td>\n",
       "      <td>10</td>\n",
       "    </tr>\n",
       "  </tbody>\n",
       "</table>\n",
       "</div>"
      ],
      "text/plain": [
       "              title genre    artist_name  listen_count\n",
       "1357110  Just A Man  Rock  Faith No More            10"
      ]
     },
     "execution_count": 16,
     "metadata": {},
     "output_type": "execute_result"
    }
   ],
   "source": [
    "song_df[song_df.user_id=='04a4e9ae79fee7889a9d698c489590d78302e61b'].sort_values(by='listen_count', ascending=False)[['title', 'genre','artist_name', 'listen_count']]"
   ]
  },
  {
   "cell_type": "markdown",
   "id": "3b10b3f9",
   "metadata": {},
   "source": [
    "### Content-based Recommendation\n",
    "predicts what a user like based on what that user like in the past"
   ]
  },
  {
   "cell_type": "code",
   "execution_count": 29,
   "id": "3cc3ee23",
   "metadata": {},
   "outputs": [
    {
     "data": {
      "text/plain": [
       "0           1\n",
       "63          2\n",
       "68          2\n",
       "69          2\n",
       "77          1\n",
       "           ..\n",
       "1459568     2\n",
       "1459575    13\n",
       "1459608    13\n",
       "1459626    11\n",
       "1459633    13\n",
       "Name: genre_id, Length: 191044, dtype: int32"
      ]
     },
     "execution_count": 29,
     "metadata": {},
     "output_type": "execute_result"
    }
   ],
   "source": [
    "le = preprocessing.LabelEncoder()\n",
    "song_df['genre_id'] = le.fit_transform(song_df['genre'])\n",
    "song_df['genre_id']"
   ]
  },
  {
   "cell_type": "code",
   "execution_count": 39,
   "id": "bf8f8008",
   "metadata": {},
   "outputs": [],
   "source": [
    "train_data, test_data = train_test_split(song_df, test_size = 0.3, random_state=1)"
   ]
  },
  {
   "cell_type": "code",
   "execution_count": 31,
   "id": "31c538e4",
   "metadata": {},
   "outputs": [],
   "source": [
    "number_cols = ['genre_id', 'longitude', 'latitude', 'year']"
   ]
  },
  {
   "cell_type": "code",
   "execution_count": 47,
   "id": "f22cae50",
   "metadata": {},
   "outputs": [
    {
     "data": {
      "text/plain": [
       "StandardScaler()"
      ]
     },
     "execution_count": 47,
     "metadata": {},
     "output_type": "execute_result"
    }
   ],
   "source": [
    "song_data = train_data.groupby('song_id')['song_id','title','artist_name', 'genre', 'genre_id', 'longitude', 'latitude', 'location', 'year'].head(1)\n",
    "\n",
    "scaler = StandardScaler()\n",
    "scaler.fit(song_data[number_cols])"
   ]
  },
  {
   "cell_type": "code",
   "execution_count": 44,
   "id": "c146ccf1",
   "metadata": {},
   "outputs": [
    {
     "data": {
      "text/html": [
       "<div>\n",
       "<style scoped>\n",
       "    .dataframe tbody tr th:only-of-type {\n",
       "        vertical-align: middle;\n",
       "    }\n",
       "\n",
       "    .dataframe tbody tr th {\n",
       "        vertical-align: top;\n",
       "    }\n",
       "\n",
       "    .dataframe thead th {\n",
       "        text-align: right;\n",
       "    }\n",
       "</style>\n",
       "<table border=\"1\" class=\"dataframe\">\n",
       "  <thead>\n",
       "    <tr style=\"text-align: right;\">\n",
       "      <th></th>\n",
       "      <th>song_id</th>\n",
       "      <th>title</th>\n",
       "      <th>artist_name</th>\n",
       "      <th>genre</th>\n",
       "      <th>genre_id</th>\n",
       "      <th>longitude</th>\n",
       "      <th>latitude</th>\n",
       "      <th>location</th>\n",
       "      <th>year</th>\n",
       "    </tr>\n",
       "  </thead>\n",
       "  <tbody>\n",
       "    <tr>\n",
       "      <th>676102</th>\n",
       "      <td>SOBONKR12A58A7A7E0</td>\n",
       "      <td>You're The One</td>\n",
       "      <td>Dwight Yoakam</td>\n",
       "      <td>Country</td>\n",
       "      <td>1</td>\n",
       "      <td>37.48170</td>\n",
       "      <td>-82.51887</td>\n",
       "      <td>Pikeville, KY</td>\n",
       "      <td>1990.0</td>\n",
       "    </tr>\n",
       "    <tr>\n",
       "      <th>1080761</th>\n",
       "      <td>SOUKOZK12A8C13CDD6</td>\n",
       "      <td>The Letter</td>\n",
       "      <td>Xavier Rudd</td>\n",
       "      <td>Folk</td>\n",
       "      <td>3</td>\n",
       "      <td>-36.55865</td>\n",
       "      <td>145.46900</td>\n",
       "      <td>Victoria, Australia</td>\n",
       "      <td>2005.0</td>\n",
       "    </tr>\n",
       "    <tr>\n",
       "      <th>941758</th>\n",
       "      <td>SORDHDA12AB0186828</td>\n",
       "      <td>Take Care</td>\n",
       "      <td>Beach House</td>\n",
       "      <td>Rock</td>\n",
       "      <td>13</td>\n",
       "      <td>39.29055</td>\n",
       "      <td>-76.60960</td>\n",
       "      <td>B-More</td>\n",
       "      <td>2010.0</td>\n",
       "    </tr>\n",
       "    <tr>\n",
       "      <th>712824</th>\n",
       "      <td>SOOFYTN12A6D4F9B35</td>\n",
       "      <td>Représente</td>\n",
       "      <td>Alliance Ethnik</td>\n",
       "      <td>Rap</td>\n",
       "      <td>10</td>\n",
       "      <td>49.25953</td>\n",
       "      <td>2.47547</td>\n",
       "      <td>Creil, France</td>\n",
       "      <td>1999.0</td>\n",
       "    </tr>\n",
       "    <tr>\n",
       "      <th>1252688</th>\n",
       "      <td>SOCHTHF12AB017E206</td>\n",
       "      <td>Don't Start Me Talkin'</td>\n",
       "      <td>Sonny Boy Williamson</td>\n",
       "      <td>Blues</td>\n",
       "      <td>0</td>\n",
       "      <td>33.84005</td>\n",
       "      <td>-90.29717</td>\n",
       "      <td>Glendora, MS</td>\n",
       "      <td>2004.0</td>\n",
       "    </tr>\n",
       "  </tbody>\n",
       "</table>\n",
       "</div>"
      ],
      "text/plain": [
       "                    song_id                   title           artist_name  \\\n",
       "676102   SOBONKR12A58A7A7E0          You're The One         Dwight Yoakam   \n",
       "1080761  SOUKOZK12A8C13CDD6              The Letter           Xavier Rudd   \n",
       "941758   SORDHDA12AB0186828               Take Care           Beach House   \n",
       "712824   SOOFYTN12A6D4F9B35              Représente       Alliance Ethnik   \n",
       "1252688  SOCHTHF12AB017E206  Don't Start Me Talkin'  Sonny Boy Williamson   \n",
       "\n",
       "           genre  genre_id  longitude   latitude             location    year  \n",
       "676102   Country         1   37.48170  -82.51887        Pikeville, KY  1990.0  \n",
       "1080761     Folk         3  -36.55865  145.46900  Victoria, Australia  2005.0  \n",
       "941758      Rock        13   39.29055  -76.60960               B-More  2010.0  \n",
       "712824       Rap        10   49.25953    2.47547        Creil, France  1999.0  \n",
       "1252688    Blues         0   33.84005  -90.29717         Glendora, MS  2004.0  "
      ]
     },
     "execution_count": 44,
     "metadata": {},
     "output_type": "execute_result"
    }
   ],
   "source": [
    "song_data.head()"
   ]
  },
  {
   "cell_type": "code",
   "execution_count": 33,
   "id": "25bab96a",
   "metadata": {},
   "outputs": [],
   "source": [
    "def get_song_list(user_id):\n",
    "    \n",
    "    \"\"\"\n",
    "    Gets the information of previous songs that a user has listened to.\n",
    "    \"\"\"\n",
    "        \n",
    "    song_id_list = song_df[song_df['user_id'] == user_id]['song_id'].tolist()\n",
    "    return song_data[song_data['song_id'].isin(song_id_list)]"
   ]
  },
  {
   "cell_type": "code",
   "execution_count": 34,
   "id": "bb713516",
   "metadata": {},
   "outputs": [],
   "source": [
    "def get_mean_vector(user_id):\n",
    "  \n",
    "    \"\"\"\n",
    "    Gets the mean vector for a list of songs.\n",
    "    \"\"\"\n",
    "    \n",
    "    song_vectors = song_df[song_df['user_id'] == user_id][number_cols] \n",
    "    song_vectors['genre_id'] = song_df[song_df['user_id'] == user_id]['genre_id'].mode()[0] # for genre, recommend the mode\n",
    "    song_matrix = np.array(song_vectors)\n",
    "    return np.mean(song_matrix, axis=0)"
   ]
  },
  {
   "cell_type": "code",
   "execution_count": 79,
   "id": "df670f28",
   "metadata": {},
   "outputs": [],
   "source": [
    "def recommend_songs(user_id, n_songs=10):\n",
    "  \n",
    "    \"\"\"\n",
    "    Recommends songs based on a list of previous songs that a user has listened to.\n",
    "    \"\"\"\n",
    "    song_history = song_df[song_df['user_id'] == user_id]['song_id']\n",
    "    song_list = song_history.tolist()\n",
    "    \n",
    "    song_center = get_mean_vector(user_id)\n",
    "    scaled_data = scaler.transform(song_data[~song_data.song_id.isin(song_list)][number_cols])\n",
    "    scaled_song_center = scaler.transform(song_center.reshape(1, -1))\n",
    "    distances = cdist(scaled_song_center, scaled_data, 'cosine')\n",
    "    index = list(np.argsort(distances)[:, :n_songs][0])\n",
    "    \n",
    "    rec_songs = song_data[~song_data.song_id.isin(song_list)].iloc[index]\n",
    "    rec_songs['distance'] = distances[0][index]\n",
    "    rec_songs['rank'] = rec_songs['distance'].rank(ascending=True, method='first')\n",
    "    return rec_songs"
   ]
  },
  {
   "cell_type": "code",
   "execution_count": 42,
   "id": "d25b315c",
   "metadata": {},
   "outputs": [
    {
     "data": {
      "text/html": [
       "<div>\n",
       "<style scoped>\n",
       "    .dataframe tbody tr th:only-of-type {\n",
       "        vertical-align: middle;\n",
       "    }\n",
       "\n",
       "    .dataframe tbody tr th {\n",
       "        vertical-align: top;\n",
       "    }\n",
       "\n",
       "    .dataframe thead th {\n",
       "        text-align: right;\n",
       "    }\n",
       "</style>\n",
       "<table border=\"1\" class=\"dataframe\">\n",
       "  <thead>\n",
       "    <tr style=\"text-align: right;\">\n",
       "      <th></th>\n",
       "      <th>song_id</th>\n",
       "      <th>title</th>\n",
       "      <th>artist_name</th>\n",
       "      <th>genre</th>\n",
       "      <th>genre_id</th>\n",
       "      <th>longitude</th>\n",
       "      <th>latitude</th>\n",
       "      <th>location</th>\n",
       "      <th>year</th>\n",
       "    </tr>\n",
       "  </thead>\n",
       "  <tbody>\n",
       "    <tr>\n",
       "      <th>676102</th>\n",
       "      <td>SOBONKR12A58A7A7E0</td>\n",
       "      <td>You're The One</td>\n",
       "      <td>Dwight Yoakam</td>\n",
       "      <td>Country</td>\n",
       "      <td>1</td>\n",
       "      <td>37.4817</td>\n",
       "      <td>-82.51887</td>\n",
       "      <td>Pikeville, KY</td>\n",
       "      <td>1990.0</td>\n",
       "    </tr>\n",
       "  </tbody>\n",
       "</table>\n",
       "</div>"
      ],
      "text/plain": [
       "                   song_id           title    artist_name    genre  genre_id  \\\n",
       "676102  SOBONKR12A58A7A7E0  You're The One  Dwight Yoakam  Country         1   \n",
       "\n",
       "        longitude  latitude       location    year  \n",
       "676102    37.4817 -82.51887  Pikeville, KY  1990.0  "
      ]
     },
     "execution_count": 42,
     "metadata": {},
     "output_type": "execute_result"
    }
   ],
   "source": [
    "get_song_list('fd50c4007b68a3737fe052d5a4f78ce8aa117f3d')"
   ]
  },
  {
   "cell_type": "code",
   "execution_count": 82,
   "id": "647f528d",
   "metadata": {},
   "outputs": [
    {
     "name": "stdout",
     "output_type": "stream",
     "text": [
      "Wall time: 105 ms\n"
     ]
    },
    {
     "data": {
      "text/html": [
       "<div>\n",
       "<style scoped>\n",
       "    .dataframe tbody tr th:only-of-type {\n",
       "        vertical-align: middle;\n",
       "    }\n",
       "\n",
       "    .dataframe tbody tr th {\n",
       "        vertical-align: top;\n",
       "    }\n",
       "\n",
       "    .dataframe thead th {\n",
       "        text-align: right;\n",
       "    }\n",
       "</style>\n",
       "<table border=\"1\" class=\"dataframe\">\n",
       "  <thead>\n",
       "    <tr style=\"text-align: right;\">\n",
       "      <th></th>\n",
       "      <th>title</th>\n",
       "      <th>artist_name</th>\n",
       "      <th>distance</th>\n",
       "      <th>rank</th>\n",
       "    </tr>\n",
       "  </thead>\n",
       "  <tbody>\n",
       "    <tr>\n",
       "      <th>1436248</th>\n",
       "      <td>Never Ending Song Of Love</td>\n",
       "      <td>Crystal Gayle</td>\n",
       "      <td>0.000052</td>\n",
       "      <td>1.0</td>\n",
       "    </tr>\n",
       "    <tr>\n",
       "      <th>836786</th>\n",
       "      <td>I'm in Love Again</td>\n",
       "      <td>George Morgan</td>\n",
       "      <td>0.001660</td>\n",
       "      <td>2.0</td>\n",
       "    </tr>\n",
       "    <tr>\n",
       "      <th>1187462</th>\n",
       "      <td>Western Girls</td>\n",
       "      <td>Marty Stuart</td>\n",
       "      <td>0.001849</td>\n",
       "      <td>3.0</td>\n",
       "    </tr>\n",
       "    <tr>\n",
       "      <th>566683</th>\n",
       "      <td>Hillbilly Rock</td>\n",
       "      <td>Marty Stuart</td>\n",
       "      <td>0.001849</td>\n",
       "      <td>4.0</td>\n",
       "    </tr>\n",
       "    <tr>\n",
       "      <th>854760</th>\n",
       "      <td>Rub It In</td>\n",
       "      <td>Billy Crash Craddock</td>\n",
       "      <td>0.001913</td>\n",
       "      <td>5.0</td>\n",
       "    </tr>\n",
       "    <tr>\n",
       "      <th>198154</th>\n",
       "      <td>Statue Of A Fool</td>\n",
       "      <td>Jack Greene</td>\n",
       "      <td>0.001977</td>\n",
       "      <td>6.0</td>\n",
       "    </tr>\n",
       "    <tr>\n",
       "      <th>610243</th>\n",
       "      <td>Don't Close Your Eyes</td>\n",
       "      <td>Keith Whitley</td>\n",
       "      <td>0.003293</td>\n",
       "      <td>7.0</td>\n",
       "    </tr>\n",
       "    <tr>\n",
       "      <th>597814</th>\n",
       "      <td>I'm No Stranger To The Rain</td>\n",
       "      <td>Keith Whitley</td>\n",
       "      <td>0.003293</td>\n",
       "      <td>8.0</td>\n",
       "    </tr>\n",
       "    <tr>\n",
       "      <th>157089</th>\n",
       "      <td>Watch Me Fall</td>\n",
       "      <td>Uncle Tupelo</td>\n",
       "      <td>0.003305</td>\n",
       "      <td>9.0</td>\n",
       "    </tr>\n",
       "    <tr>\n",
       "      <th>1210301</th>\n",
       "      <td>No Substitute</td>\n",
       "      <td>John Lee Hooker</td>\n",
       "      <td>0.003448</td>\n",
       "      <td>10.0</td>\n",
       "    </tr>\n",
       "  </tbody>\n",
       "</table>\n",
       "</div>"
      ],
      "text/plain": [
       "                               title           artist_name  distance  rank\n",
       "1436248    Never Ending Song Of Love         Crystal Gayle  0.000052   1.0\n",
       "836786             I'm in Love Again         George Morgan  0.001660   2.0\n",
       "1187462                Western Girls          Marty Stuart  0.001849   3.0\n",
       "566683                Hillbilly Rock          Marty Stuart  0.001849   4.0\n",
       "854760                     Rub It In  Billy Crash Craddock  0.001913   5.0\n",
       "198154              Statue Of A Fool           Jack Greene  0.001977   6.0\n",
       "610243         Don't Close Your Eyes         Keith Whitley  0.003293   7.0\n",
       "597814   I'm No Stranger To The Rain         Keith Whitley  0.003293   8.0\n",
       "157089                 Watch Me Fall          Uncle Tupelo  0.003305   9.0\n",
       "1210301                No Substitute       John Lee Hooker  0.003448  10.0"
      ]
     },
     "execution_count": 82,
     "metadata": {},
     "output_type": "execute_result"
    }
   ],
   "source": [
    "%%time\n",
    "recommend_songs('fd50c4007b68a3737fe052d5a4f78ce8aa117f3d')[['title','artist_name','distance','rank']]"
   ]
  }
 ],
 "metadata": {
  "kernelspec": {
   "display_name": "Python 3 (ipykernel)",
   "language": "python",
   "name": "python3"
  },
  "language_info": {
   "codemirror_mode": {
    "name": "ipython",
    "version": 3
   },
   "file_extension": ".py",
   "mimetype": "text/x-python",
   "name": "python",
   "nbconvert_exporter": "python",
   "pygments_lexer": "ipython3",
   "version": "3.9.12"
  }
 },
 "nbformat": 4,
 "nbformat_minor": 5
}
